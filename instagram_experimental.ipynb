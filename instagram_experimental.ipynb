{
  "nbformat": 4,
  "nbformat_minor": 0,
  "metadata": {
    "colab": {
      "name": "instagram_experimental.ipynb",
      "provenance": [],
      "collapsed_sections": []
    },
    "kernelspec": {
      "name": "python3",
      "display_name": "Python 3"
    }
  },
  "cells": [
    {
      "cell_type": "code",
      "metadata": {
        "id": "laYM7oK5RTqy",
        "colab": {
          "base_uri": "https://localhost:8080/"
        },
        "outputId": "95e61811-ffb4-472c-8406-0ed4caf0da24"
      },
      "source": [
        "!pip install requests_toolbelt"
      ],
      "execution_count": null,
      "outputs": [
        {
          "output_type": "stream",
          "text": [
            "Collecting requests_toolbelt\n",
            "\u001b[?25l  Downloading https://files.pythonhosted.org/packages/60/ef/7681134338fc097acef8d9b2f8abe0458e4d87559c689a8c306d0957ece5/requests_toolbelt-0.9.1-py2.py3-none-any.whl (54kB)\n",
            "\r\u001b[K     |██████                          | 10kB 19.4MB/s eta 0:00:01\r\u001b[K     |████████████                    | 20kB 3.5MB/s eta 0:00:01\r\u001b[K     |██████████████████              | 30kB 4.6MB/s eta 0:00:01\r\u001b[K     |████████████████████████▏       | 40kB 4.8MB/s eta 0:00:01\r\u001b[K     |██████████████████████████████▏ | 51kB 4.0MB/s eta 0:00:01\r\u001b[K     |████████████████████████████████| 61kB 3.2MB/s \n",
            "\u001b[?25hRequirement already satisfied: requests<3.0.0,>=2.0.1 in /usr/local/lib/python3.6/dist-packages (from requests_toolbelt) (2.23.0)\n",
            "Requirement already satisfied: urllib3!=1.25.0,!=1.25.1,<1.26,>=1.21.1 in /usr/local/lib/python3.6/dist-packages (from requests<3.0.0,>=2.0.1->requests_toolbelt) (1.24.3)\n",
            "Requirement already satisfied: chardet<4,>=3.0.2 in /usr/local/lib/python3.6/dist-packages (from requests<3.0.0,>=2.0.1->requests_toolbelt) (3.0.4)\n",
            "Requirement already satisfied: idna<3,>=2.5 in /usr/local/lib/python3.6/dist-packages (from requests<3.0.0,>=2.0.1->requests_toolbelt) (2.10)\n",
            "Requirement already satisfied: certifi>=2017.4.17 in /usr/local/lib/python3.6/dist-packages (from requests<3.0.0,>=2.0.1->requests_toolbelt) (2020.6.20)\n",
            "Installing collected packages: requests-toolbelt\n",
            "Successfully installed requests-toolbelt-0.9.1\n"
          ],
          "name": "stdout"
        }
      ]
    },
    {
      "cell_type": "code",
      "metadata": {
        "id": "gr5LlVN-O0TC",
        "colab": {
          "base_uri": "https://localhost:8080/"
        },
        "outputId": "89511b49-e539-407b-fcc1-5f881cab92cc"
      },
      "source": [
        "!git clone https://github.com/ricardojoserf/instagram-followers-bot.git"
      ],
      "execution_count": null,
      "outputs": [
        {
          "output_type": "stream",
          "text": [
            "Cloning into 'instagram-followers-bot'...\n",
            "remote: Enumerating objects: 186, done.\u001b[K\n",
            "remote: Total 186 (delta 0), reused 0 (delta 0), pack-reused 186\u001b[K\n",
            "Receiving objects: 100% (186/186), 42.08 KiB | 7.01 MiB/s, done.\n",
            "Resolving deltas: 100% (83/83), done.\n"
          ],
          "name": "stdout"
        }
      ]
    },
    {
      "cell_type": "code",
      "metadata": {
        "id": "OAGWJQxRRInI",
        "colab": {
          "base_uri": "https://localhost:8080/"
        },
        "outputId": "db210806-38ab-42bf-8cc3-8d9f6236aa3d"
      },
      "source": [
        "!ls"
      ],
      "execution_count": null,
      "outputs": [
        {
          "output_type": "stream",
          "text": [
            "instagram-followers-bot  sample_data\n"
          ],
          "name": "stdout"
        }
      ]
    },
    {
      "cell_type": "code",
      "metadata": {
        "id": "BQcb3zQqRK6S",
        "colab": {
          "base_uri": "https://localhost:8080/"
        },
        "outputId": "0367e349-062a-4aef-ff53-344921098c0f"
      },
      "source": [
        "%cd instagram-followers-bot"
      ],
      "execution_count": null,
      "outputs": [
        {
          "output_type": "stream",
          "text": [
            "/content/instagram-followers-bot\n"
          ],
          "name": "stdout"
        }
      ]
    },
    {
      "cell_type": "code",
      "metadata": {
        "id": "w-AzTM6kf3X5",
        "colab": {
          "base_uri": "https://localhost:8080/"
        },
        "outputId": "e81cea2a-2765-4d37-cdf2-c7a60fba5ab2"
      },
      "source": [
        "%cd /content/drive/My Drive/instagram_experimental"
      ],
      "execution_count": null,
      "outputs": [
        {
          "output_type": "stream",
          "text": [
            "/content/drive/My Drive/instagram_experimental\n"
          ],
          "name": "stdout"
        }
      ]
    },
    {
      "cell_type": "code",
      "metadata": {
        "id": "_2E85egdSvYs",
        "colab": {
          "base_uri": "https://localhost:8080/"
        },
        "outputId": "a36a1cf6-d047-447c-92c0-a557e9be5be6"
      },
      "source": [
        "!git clone https://github.com/realsirjoe/instagram-scraper.git"
      ],
      "execution_count": null,
      "outputs": [
        {
          "output_type": "stream",
          "text": [
            "Cloning into 'instagram-scraper'...\n",
            "remote: Enumerating objects: 7, done.\u001b[K\n",
            "remote: Counting objects: 100% (7/7), done.\u001b[K\n",
            "remote: Compressing objects: 100% (7/7), done.\u001b[K\n",
            "remote: Total 758 (delta 0), reused 0 (delta 0), pack-reused 751\u001b[K\n",
            "Receiving objects: 100% (758/758), 178.99 KiB | 432.00 KiB/s, done.\n",
            "Resolving deltas: 100% (452/452), done.\n"
          ],
          "name": "stdout"
        }
      ]
    },
    {
      "cell_type": "code",
      "metadata": {
        "id": "8LEnwFvmX4eW",
        "colab": {
          "base_uri": "https://localhost:8080/"
        },
        "outputId": "343f80e6-c1af-40ab-8beb-d0929f03b334"
      },
      "source": [
        "%cd /content/drive/My Drive/instagram_experimental/instagram-scraper/examples"
      ],
      "execution_count": null,
      "outputs": [
        {
          "output_type": "stream",
          "text": [
            "/content/drive/My Drive/instagram_experimental/instagram-scraper/examples\n"
          ],
          "name": "stdout"
        }
      ]
    },
    {
      "cell_type": "code",
      "metadata": {
        "id": "ZKHNaYnKYSsu",
        "colab": {
          "base_uri": "https://localhost:8080/",
          "height": 410
        },
        "outputId": "f186c1e2-cbcd-48cf-ff18-722a0c020420"
      },
      "source": [
        "# from igramscraper.instagram import Instagram\n",
        "\n",
        "# instagram = Instagram()\n",
        "\n",
        "# # authentication supported\n",
        "# instagram.with_credentials('iluvmahheart1', 'HgLn0@i2x6Zp8Gg')\n",
        "# instagram.login()\n",
        "\n",
        "# #Getting an account by id\n",
        "# account = instagram.get_account_by_id(3)\n",
        "\n",
        "# # Available fields\n",
        "# print('Account info:')\n",
        "# print('Id: ', account.identifier)\n",
        "# print('Username: ', account.username)\n",
        "# print('Full name: ', account.full_name)\n",
        "# print('Biography: ', account.biography)\n",
        "# print('Profile pic url: ', account.get_profile_picture_url())\n",
        "# print('External Url: ', account.external_url)\n",
        "# print('Number of published posts: ', account.media_count)\n",
        "# print('Number of followers: ', account.followed_by_count)\n",
        "# print('Number of follows: ', account.follows_count)\n",
        "# print('Is private: ', account.is_private)\n",
        "# print('Is verified: ', account.is_verified)\n",
        "\n",
        "# # or simply for printing use \n",
        "# print(account)"
      ],
      "execution_count": null,
      "outputs": [
        {
          "output_type": "error",
          "ename": "InstagramAuthException",
          "evalue": "ignored",
          "traceback": [
            "\u001b[0;31m---------------------------------------------------------------------------\u001b[0m",
            "\u001b[0;31mInstagramAuthException\u001b[0m                    Traceback (most recent call last)",
            "\u001b[0;32m<ipython-input-5-963eee446bd4>\u001b[0m in \u001b[0;36m<module>\u001b[0;34m()\u001b[0m\n\u001b[1;32m      5\u001b[0m \u001b[0;31m# authentication supported\u001b[0m\u001b[0;34m\u001b[0m\u001b[0;34m\u001b[0m\u001b[0;34m\u001b[0m\u001b[0m\n\u001b[1;32m      6\u001b[0m \u001b[0minstagram\u001b[0m\u001b[0;34m.\u001b[0m\u001b[0mwith_credentials\u001b[0m\u001b[0;34m(\u001b[0m\u001b[0;34m'iluvmahheart1'\u001b[0m\u001b[0;34m,\u001b[0m \u001b[0;34m'HgLn0@i2x6Zp8Gg'\u001b[0m\u001b[0;34m)\u001b[0m\u001b[0;34m\u001b[0m\u001b[0;34m\u001b[0m\u001b[0m\n\u001b[0;32m----> 7\u001b[0;31m \u001b[0minstagram\u001b[0m\u001b[0;34m.\u001b[0m\u001b[0mlogin\u001b[0m\u001b[0;34m(\u001b[0m\u001b[0;34m)\u001b[0m\u001b[0;34m\u001b[0m\u001b[0;34m\u001b[0m\u001b[0m\n\u001b[0m\u001b[1;32m      8\u001b[0m \u001b[0;34m\u001b[0m\u001b[0m\n\u001b[1;32m      9\u001b[0m \u001b[0;31m#Getting an account by id\u001b[0m\u001b[0;34m\u001b[0m\u001b[0;34m\u001b[0m\u001b[0;34m\u001b[0m\u001b[0m\n",
            "\u001b[0;32m/content/instagram-scraper/igramscraper/instagram.py\u001b[0m in \u001b[0;36mlogin\u001b[0;34m(self, force, two_step_verificator)\u001b[0m\n\u001b[1;32m   1498\u001b[0m                     raise InstagramAuthException(\n\u001b[1;32m   1499\u001b[0m                         \u001b[0;34mf'Response code is {response.status_code}. Body: {response.text} Something went wrong. Please report issue.'\u001b[0m\u001b[0;34m,\u001b[0m\u001b[0;34m\u001b[0m\u001b[0;34m\u001b[0m\u001b[0m\n\u001b[0;32m-> 1500\u001b[0;31m                         response.status_code)\n\u001b[0m\u001b[1;32m   1501\u001b[0m                 \u001b[0;32melse\u001b[0m\u001b[0;34m:\u001b[0m\u001b[0;34m\u001b[0m\u001b[0;34m\u001b[0m\u001b[0m\n\u001b[1;32m   1502\u001b[0m                     raise InstagramAuthException(\n",
            "\u001b[0;31mInstagramAuthException\u001b[0m: Response code is 400. Body: {\"message\": \"checkpoint_required\", \"checkpoint_url\": \"/challenge/4112493629/bHo1g9qs0m/\", \"lock\": false, \"flow_render_type\": 0, \"status\": \"fail\"} Something went wrong. Please report issue., Code:400"
          ]
        }
      ]
    },
    {
      "cell_type": "code",
      "metadata": {
        "id": "5frJE4sOaAtp",
        "colab": {
          "base_uri": "https://localhost:8080/"
        },
        "outputId": "c9650e93-7c5f-42f7-cbf8-6cd32c47f67a"
      },
      "source": [
        "\n",
        "from context import Instagram # pylint: disable=no-name-in-module\n",
        "from time import sleep\n",
        "\n",
        "instagram = Instagram()\n",
        "instagram.with_credentials('username', 'password', '/cachepath')\n",
        "instagram.login(force=False,two_step_verificator=True)\n",
        "\n",
        "sleep(2) # Delay to mimic user\n",
        "\n"
      ],
      "execution_count": null,
      "outputs": [
        {
          "output_type": "stream",
          "text": [
            "Message with security code sent to: Email: i*******1@gmail.com\n",
            "Enter security code: 936721\n",
            "checkpoint required\n"
          ],
          "name": "stdout"
        }
      ]
    },
    {
      "cell_type": "code",
      "metadata": {
        "id": "3axm7vftiQk_",
        "colab": {
          "base_uri": "https://localhost:8080/"
        },
        "outputId": "c6aecd52-4919-491e-c5c3-df099ac1ff2b"
      },
      "source": [
        "# username = 'target_user'\n",
        "# followers = []\n",
        "# account = instagram.get_account(username)\n",
        "# sleep(1)\n",
        "# followers = instagram.get_followers(account.identifier, 150, 100, delayed=True) # Get 150 followers of 'kevin', 100 a time with random delay between requests\n",
        "\n",
        "# for follower in followers['accounts']:\n",
        "#     print(follower)\n",
        "\n",
        "\n",
        "\n",
        "\n",
        "\n",
        "medias = instagram.get_medias(\"target_username\", 25)\n",
        "media = medias[6]\n",
        "\n",
        "print(media)\n",
        "\n",
        "\n",
        "\n",
        "https://www.instagram.com/p/CGxmIHLge2w/\n",
        "\n",
        "# media_links = []\n",
        "# like_counter = 0 \n",
        "\n",
        "i = \"https://www.instagram.com/p/CHQ5ovQHXS7/\"\n",
        "\n",
        "\n",
        "for i in media_links:\n",
        "  \n",
        "  media = instagram.get_media_by_url(i)\n",
        "\n",
        "  like_counter = media.likes_count + like_counter\n",
        "\n",
        "\n",
        "\n"
      ],
      "execution_count": null,
      "outputs": [
        {
          "output_type": "stream",
          "text": [
            "\n",
            "Media Info:\n",
            "'Id: 2433362384878978448\n",
            "Shortcode: CHFCjJQgkWQ\n",
            "Created at: 1604299448\n",
            "Caption: Happy Halloween 👻 Pyareo 💀\n",
            "Number of comments: 0\n",
            "Number of likes: 281546\n",
            "Link: https://www.instagram.com/p/CHFCjJQgkWQ\n",
            "Hig res image: https://scontent-hkt1-1.cdninstagram.com/v/t51.2885-15/e35/123292804_1304991296510757_2109493661533996432_n.jpg?_nc_ht=scontent-hkt1-1.cdninstagram.com&_nc_cat=109&_nc_ohc=xcj39v1YWeQAX9U98Ll&tp=18&oh=858e3d7cac355dfd084bb7bd23d556c1&oe=5FAF437F\n",
            "Media type: video\n",
            "\n"
          ],
          "name": "stdout"
        }
      ]
    },
    {
      "cell_type": "code",
      "metadata": {
        "id": "stl-kJUvdIFC"
      },
      "source": [
        ""
      ],
      "execution_count": null,
      "outputs": []
    },
    {
      "cell_type": "code",
      "metadata": {
        "id": "7pvU6fPcdIge"
      },
      "source": [
        ""
      ],
      "execution_count": null,
      "outputs": []
    },
    {
      "cell_type": "code",
      "metadata": {
        "id": "bQVFm2bQdIcz"
      },
      "source": [
        ""
      ],
      "execution_count": null,
      "outputs": []
    },
    {
      "cell_type": "code",
      "metadata": {
        "id": "3glx7eY-dIX9"
      },
      "source": [
        ""
      ],
      "execution_count": null,
      "outputs": []
    },
    {
      "cell_type": "code",
      "metadata": {
        "id": "dJdkPfrvdIBp"
      },
      "source": [
        ""
      ],
      "execution_count": null,
      "outputs": []
    }
  ]
}